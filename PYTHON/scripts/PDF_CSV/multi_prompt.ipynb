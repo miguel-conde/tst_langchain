{
 "cells": [
  {
   "attachments": {},
   "cell_type": "markdown",
   "metadata": {},
   "source": [
    "https://github.com/hwchase17/langchain/blob/master/docs/modules/chains/examples/multi_retrieval_qa_router.ipynb"
   ]
  },
  {
   "cell_type": "code",
   "execution_count": 11,
   "metadata": {},
   "outputs": [],
   "source": [
    "from langchain.chains.router import MultiRetrievalQAChain\n",
    "from langchain.llms import OpenAI\n",
    "\n",
    "import util_funs.globalsettings as gs"
   ]
  },
  {
   "cell_type": "code",
   "execution_count": 25,
   "metadata": {},
   "outputs": [
    {
     "name": "stderr",
     "output_type": "stream",
     "text": [
      "Using embedded DuckDB with persistence: data will be stored in: C:\\Users\\migue\\Documents\\PROYECTOS DATA SCIENCE\\langchain\\PYTHON\\util_funs\\..\\..\\data\\chroma\n",
      "Using embedded DuckDB with persistence: data will be stored in: C:\\Users\\migue\\Documents\\PROYECTOS DATA SCIENCE\\langchain\\PYTHON\\util_funs\\..\\..\\data\\chroma\n",
      "Using embedded DuckDB with persistence: data will be stored in: C:\\Users\\migue\\Documents\\PROYECTOS DATA SCIENCE\\langchain\\PYTHON\\util_funs\\..\\..\\data\\chroma\n"
     ]
    }
   ],
   "source": [
    "from langchain.embeddings import OpenAIEmbeddings\n",
    "from langchain.document_loaders import TextLoader\n",
    "from langchain.vectorstores import Chroma\n",
    "\n",
    "vector_store_pdf = Chroma(\n",
    "    collection_name='pdf_files',\n",
    "    embedding_function=OpenAIEmbeddings(),\n",
    "    persist_directory=gs.the_folders.DIR_PERSIST\n",
    "    )\n",
    "pdf_retriever = vector_store_pdf.as_retriever()\n",
    "\n",
    "vector_store_csv_spain = Chroma(\n",
    "    collection_name='csv_files_spain',\n",
    "    embedding_function=OpenAIEmbeddings(),\n",
    "    persist_directory=gs.the_folders.DIR_PERSIST\n",
    "    )\n",
    "csv_spain_retriever = vector_store_csv_spain.as_retriever()\n",
    "\n",
    "vector_store_csv_ue = Chroma(\n",
    "    collection_name='csv_files_ue',\n",
    "    embedding_function=OpenAIEmbeddings(),\n",
    "    persist_directory=gs.the_folders.DIR_PERSIST\n",
    "    )\n",
    "csv_ue_retriever = vector_store_csv_ue.as_retriever()"
   ]
  },
  {
   "cell_type": "code",
   "execution_count": 33,
   "metadata": {},
   "outputs": [],
   "source": [
    "retriever_infos = [\n",
    "    {\n",
    "        \"name\": \"situacion economia\", \n",
    "        \"description\": \"Good for answering questions about economy\", \n",
    "        \"retriever\": pdf_retriever\n",
    "    },\n",
    "    {\n",
    "        \"name\": \"datos paro españa\", \n",
    "        \"description\": \"Good for answering questions about unemployement in spain\", \n",
    "        \"retriever\": csv_spain_retriever\n",
    "    },\n",
    "    {\n",
    "        \"name\": \"datos paro UE\", \n",
    "        \"description\": \"Good for answering questions about unemployement in ue\", \n",
    "        \"retriever\": csv_ue_retriever\n",
    "    }\n",
    "]"
   ]
  },
  {
   "cell_type": "code",
   "execution_count": 34,
   "metadata": {},
   "outputs": [],
   "source": [
    "from langchain.memory import ConversationBufferMemory\n",
    "memory = ConversationBufferMemory(memory_key=\"chat_history\", return_messages=True)"
   ]
  },
  {
   "cell_type": "code",
   "execution_count": 41,
   "metadata": {},
   "outputs": [],
   "source": [
    "chain = MultiRetrievalQAChain.from_retrievers(OpenAI(), retriever_infos, verbose=True)"
   ]
  },
  {
   "cell_type": "code",
   "execution_count": 42,
   "metadata": {},
   "outputs": [
    {
     "name": "stdout",
     "output_type": "stream",
     "text": [
      "\n",
      "\n",
      "\u001b[1m> Entering new MultiRetrievalQAChain chain...\u001b[0m\n",
      "situacion economia: {'query': 'Qué impacto tuvo la guerra de Ucrania en la economía durante 2022?'}\n",
      "\u001b[1m> Finished chain.\u001b[0m\n",
      " La guerra de Ucrania tuvo un impacto negativo en la economía durante 2022, ya que provocó una escalada de los precios de materias primas, especialmente energéticas, una subida de tipos de interés más rápida de lo anticipado, y una reducción temporal del suministro de algunos bienes. Esto provocó una desaceleración del crecimiento económico en el primer trimestre del año, aunque el segundo trimestre ha visto una aceleración gracias al buen comportamiento del consumo de servicios.\n"
     ]
    }
   ],
   "source": [
    "print(chain.run(\"Qué impacto tuvo la guerra de Ucrania en la economia durante 2022?\"))"
   ]
  },
  {
   "cell_type": "code",
   "execution_count": 37,
   "metadata": {},
   "outputs": [
    {
     "name": "stdout",
     "output_type": "stream",
     "text": [
      "\n",
      "\n",
      "\u001b[1m> Entering new MultiRetrievalQAChain chain...\u001b[0m\n",
      "datos paro españa: {'query': 'cuales son las tasas de paro total en españa en T12023?'}\n",
      "\u001b[1m> Finished chain.\u001b[0m\n",
      " La tasa de paro total en España en el periodo 2023T1 es 11.57 para hombres, 15.13 para mujeres y 12.13 para ambos sexos de 25 a 54 años.\n"
     ]
    }
   ],
   "source": [
    "print(chain.run(\"cuales son las tasas de paro total en españa en T12023?\"))"
   ]
  },
  {
   "cell_type": "code",
   "execution_count": 38,
   "metadata": {},
   "outputs": [
    {
     "name": "stdout",
     "output_type": "stream",
     "text": [
      "\n",
      "\n",
      "\u001b[1m> Entering new MultiRetrievalQAChain chain...\u001b[0m\n",
      "datos paro españa: {'query': 'cual es la tasa de paro total nacional en españa del 2023T1'}\n",
      "\u001b[1m> Finished chain.\u001b[0m\n",
      " La tasa de paro total nacional en España del 2023T1 es 13.26.\n"
     ]
    }
   ],
   "source": [
    "print(chain.run(\"cual es la tasa de paro total nacional en españa del 2023T1\"))"
   ]
  },
  {
   "cell_type": "code",
   "execution_count": 19,
   "metadata": {},
   "outputs": [
    {
     "data": {
      "text/plain": [
       "[Document(page_content='La evolución de la inflación durante los últimos trimestres provoca la revisión al alza de la previsión del deflactor del consumo privado para 2022 y 2023. En línea con lo esperado en el Programa de Estabilidad y con lo señalado por otros organismos, la guerra de Rusia en Ucrania está resultando en un entorno global más adverso y está exacerbando las tensiones globales de precios en los mercados del gas y del petróleo, así como de otras materias primas. La guerra afecta a la economía española tanto en los precios como en la actividad, a través de varios canales, entre los que destaca el alza de los costes energéticos que se está traduciendo en unos niveles de inflación elevados que retraen el consumo. El incremento de los precios está siendo más acusado y está durando más de lo inicialmente previsto, lo que ha llevado a los principales\\n\\n22\\n\\nInforme de situación de la economía española 2022\\n\\norganismos como el BCE y Banco de España a revisar al alza sus previsiones de inflación en los últimos meses. Además, inicialmente las alzas de precios se concentraron en los bienes energéticos, pero en los últimos meses destaca el repunte de la inflación subyacente a medida que las empresas repercuten en precios la subida de sus costes. Se revisa por tanto al alza el deflactor del consumo privado en 2022 y 2023 hasta el 7,8% y 2,9%, respectivamente.', metadata={'source': 'C:\\\\Users\\\\migue\\\\Documents\\\\PROYECTOS DATA SCIENCE\\\\langchain\\\\PYTHON\\\\util_funs\\\\..\\\\..\\\\data\\\\pdf_csv_files\\\\InformedeSituacion2022.pdf'}),\n",
       " Document(page_content='El estallido de la Guerra de Rusia ha cambiado el contexto económico global y, particularmente, el europeo. Las tensiones inflacionistas provocadas por el alza de los precios del gas y el petróleo se han hecho más persistentes de lo esperado y han acelerado la normalización de la política monetaria. La subida de tipos de interés anunciada por el Banco Central Europeo provocará un endurecimiento de las condiciones financieras más rápido de lo anticipado, impactando negativamente sobre las decisiones de consumo privado e inversión por parte de familias y empresas. Los mercados financieros y monetarios ya han adelantado gran parte de la subida de tipos a lo largo del primer semestre (Gráfico 23) aunque los posibles efectos negativos de esta medida de política monetaria tendrían una mayor relevancia hacia final de 2022 e inicio de 2023.\\n\\nGráfico 23. Evolución de tipos de interés\\n\\nBono español 10 años\\n\\nEuribor 12 meses\\n\\n3,5\\n\\n3,0\\n\\n2,5\\n\\n2,0\\n\\n1,5\\n\\n1,0\\n\\n0,5\\n\\n0,0\\n\\n0,5\\n\\n1,0\\n\\n1 2 0 2 - .\\n\\ne n e\\n\\n1 2 0 2 - . r a m\\n\\n1 2 0 2 - . y a m\\n\\n1 2 0 2 - . l\\n\\nu\\n\\nj\\n\\n1 2 0 2 - .\\n\\np e s\\n\\n1 2 0 2 - . v o n\\n\\n2 2 0 2 - .\\n\\ne n e\\n\\n2 2 0 2 - . r a m\\n\\n2 2 0 2 - . l\\n\\nu\\n\\nj\\n\\n2 2 0 2 - . y a m\\n\\nFuente: Reuters.', metadata={'source': 'C:\\\\Users\\\\migue\\\\Documents\\\\PROYECTOS DATA SCIENCE\\\\langchain\\\\PYTHON\\\\util_funs\\\\..\\\\..\\\\data\\\\pdf_csv_files\\\\InformedeSituacion2022.pdf'}),\n",
       " Document(page_content='Una mayor duración de la guerra prolongaría las tensiones en los mercados de materias primas, especialmente las energéticas, aumentando la probabilidad de efectos de segunda ronda en precios. Los mercados de materias primas, especialmente las energéticas, pero también las alimentarias, han sufrido notables alzas desde el inicio de la guerra, dada la dependencia global de la oferta proveniente de Rusia y Ucrania (Gráfico 26). La persistencia de tensiones en los precios de materias primas seguiría presionando las tasas de inflación al alza, haciendo más probable la materialización de efectos de segunda ronda.\\n\\nEl gas natural seguirá siendo la materia prima más afectada, especialmente si se materializa un corte de suministro desde Rusia hacia Europa. El gas natural sufre de rigidez en el suministro (que requiere gaseoductos o estaciones de licuefacción y regasificación), por lo que no es posible una redirección de flujos en el corto plazo. Desde mediados de junio, la parada por mantenimiento del gaseoducto NordStream 1 así como el incendio de una planta de licuefacción de gas natural en Estados Unidos han vuelto a provocar una escalada del precio de referencia del gas natural en Europa. Una interrupción total del desde Rusia tendría un impacto significativo en la oferta disponible de gas natural en Europa, lo cual tensionaría aún más los precios.\\n\\nGráfico 26. Índice de precios\\n\\nGráfico 27. Precio del gas natural\\n\\n400\\n\\n350\\n\\n300\\n\\n250\\n\\n200\\n\\n150\\n\\n100\\n\\nMIBGAS\\n\\nEuros/MWh', metadata={'source': 'C:\\\\Users\\\\migue\\\\Documents\\\\PROYECTOS DATA SCIENCE\\\\langchain\\\\PYTHON\\\\util_funs\\\\..\\\\..\\\\data\\\\pdf_csv_files\\\\InformedeSituacion2022.pdf'}),\n",
       " Document(page_content='El Plan de Recuperación está impulsando y afianzando la transformación de la economía española hacia un crecimiento sostenible. Frente a la necesidad de la descarbonización, la aceleración de las tecnologías digitales y la aspiración de la igualdad, el Plan está desplegando un conjunto de reformas estructurales y de inversiones públicas y privadas con efectos en el corto plazo e impacto en el medio plazo. El entorno complejo asociado a las consecuencias de la guerra de Rusia en Ucrania hace más urgente e imprescindible la ejecución plena del Plan. El avance en las reformas e inversiones se irá reflejando en los indicadores cualitativos, evidenciando que el crecimiento del PIB estará contribuyendo de manera efectiva a una mejora del bienestar social de la que participen todos los ciudadanos y que tome en cuenta también a las generaciones futuras.\\n\\nInforme de situación de la economía española 2022\\n\\nCuadro 3. Indicadores complementarios\\n\\nPeso sobre el total, salvo indicación contraria\\n\\nFuente: INE, Eurostat y REE, Ministerio de Educación y Formación Profesional.\\n\\n28\\n\\nInforme de situación de la economía española 2022\\n\\n4. Riesgos asociados al escenario\\n\\n4.1. Agravamiento de las tensiones en los precios energéticos', metadata={'source': 'C:\\\\Users\\\\migue\\\\Documents\\\\PROYECTOS DATA SCIENCE\\\\langchain\\\\PYTHON\\\\util_funs\\\\..\\\\..\\\\data\\\\pdf_csv_files\\\\InformedeSituacion2022.pdf'})]"
      ]
     },
     "execution_count": 19,
     "metadata": {},
     "output_type": "execute_result"
    }
   ],
   "source": [
    "pdf_retriever.get_relevant_documents(\"Qué impacto tuvo la guerra de Ucrania en la economia durante 2022?\")"
   ]
  },
  {
   "cell_type": "code",
   "execution_count": 23,
   "metadata": {},
   "outputs": [
    {
     "data": {
      "text/plain": [
       "[Document(page_content='ï»¿zona: Spain\\ntasa paro: 12.9\\nmes: 2023-01', metadata={'source': 'C:\\\\Users\\\\migue\\\\Documents\\\\PROYECTOS DATA SCIENCE\\\\langchain\\\\PYTHON\\\\util_funs\\\\..\\\\..\\\\data\\\\pdf_csv_files\\\\tasa_paro_mensual_por_pais_ue.csv', 'row': 11}),\n",
       " Document(page_content='ï»¿zona: Spain\\ntasa paro: 12.9\\nmes: 2023-01', metadata={'source': 'C:\\\\Users\\\\migue\\\\Documents\\\\PROYECTOS DATA SCIENCE\\\\langchain\\\\PYTHON\\\\util_funs\\\\..\\\\..\\\\data\\\\pdf_csv_files\\\\tasa_paro_mensual_por_pais_ue.csv', 'row': 11}),\n",
       " Document(page_content='ï»¿zona: Spain\\ntasa paro: 12.9\\nmes: 2023-02', metadata={'source': 'C:\\\\Users\\\\migue\\\\Documents\\\\PROYECTOS DATA SCIENCE\\\\langchain\\\\PYTHON\\\\util_funs\\\\..\\\\..\\\\data\\\\pdf_csv_files\\\\tasa_paro_mensual_por_pais_ue.csv', 'row': 45}),\n",
       " Document(page_content='ï»¿zona: Spain\\ntasa paro: 12.9\\nmes: 2023-02', metadata={'source': 'C:\\\\Users\\\\migue\\\\Documents\\\\PROYECTOS DATA SCIENCE\\\\langchain\\\\PYTHON\\\\util_funs\\\\..\\\\..\\\\data\\\\pdf_csv_files\\\\tasa_paro_mensual_por_pais_ue.csv', 'row': 45})]"
      ]
     },
     "execution_count": 23,
     "metadata": {},
     "output_type": "execute_result"
    }
   ],
   "source": [
    "csv_retriever.get_relevant_documents(\"cual es la tasa de paro total nacional en españa del 2023T1?\")"
   ]
  },
  {
   "cell_type": "code",
   "execution_count": null,
   "metadata": {},
   "outputs": [],
   "source": []
  }
 ],
 "metadata": {
  "kernelspec": {
   "display_name": ".venv",
   "language": "python",
   "name": "python3"
  },
  "language_info": {
   "codemirror_mode": {
    "name": "ipython",
    "version": 3
   },
   "file_extension": ".py",
   "mimetype": "text/x-python",
   "name": "python",
   "nbconvert_exporter": "python",
   "pygments_lexer": "ipython3",
   "version": "3.11.3"
  },
  "orig_nbformat": 4
 },
 "nbformat": 4,
 "nbformat_minor": 2
}
