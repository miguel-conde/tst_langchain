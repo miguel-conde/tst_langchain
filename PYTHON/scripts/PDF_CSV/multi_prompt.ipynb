{
 "cells": [
  {
   "attachments": {},
   "cell_type": "markdown",
   "metadata": {},
   "source": [
    "https://github.com/hwchase17/langchain/blob/master/docs/modules/chains/examples/multi_retrieval_qa_router.ipynb"
   ]
  },
  {
   "cell_type": "code",
   "execution_count": 2,
   "metadata": {},
   "outputs": [],
   "source": [
    "from langchain.chains.router import MultiRetrievalQAChain\n",
    "from langchain.llms import OpenAI\n",
    "\n",
    "import util_funs.globalsettings as gs"
   ]
  },
  {
   "cell_type": "code",
   "execution_count": 3,
   "metadata": {},
   "outputs": [
    {
     "name": "stderr",
     "output_type": "stream",
     "text": [
      "Using embedded DuckDB with persistence: data will be stored in: C:\\Users\\migue\\Documents\\PROYECTOS DATA SCIENCE\\langchain\\PYTHON\\util_funs\\..\\..\\data\\chroma\n",
      "Using embedded DuckDB with persistence: data will be stored in: C:\\Users\\migue\\Documents\\PROYECTOS DATA SCIENCE\\langchain\\PYTHON\\util_funs\\..\\..\\data\\chroma\n"
     ]
    }
   ],
   "source": [
    "from langchain.embeddings import OpenAIEmbeddings\n",
    "from langchain.document_loaders import TextLoader\n",
    "from langchain.vectorstores import Chroma\n",
    "\n",
    "vector_store_pdf = Chroma(\n",
    "    collection_name='pdf_files',\n",
    "    embedding_function=OpenAIEmbeddings(),\n",
    "    persist_directory=gs.the_folders.DIR_PERSIST\n",
    "    )\n",
    "pdf_retriever = vector_store_pdf.as_retriever()\n",
    "\n",
    "vector_store_csv = Chroma(\n",
    "    collection_name='csv_files',\n",
    "    embedding_function=OpenAIEmbeddings(),\n",
    "    persist_directory=gs.the_folders.DIR_PERSIST\n",
    "    )\n",
    "csv_retriever = vector_store_pdf.as_retriever()"
   ]
  },
  {
   "cell_type": "code",
   "execution_count": 42,
   "metadata": {},
   "outputs": [
    {
     "data": {
      "text/plain": [
       "VectorStoreRetriever(vectorstore=<langchain.vectorstores.chroma.Chroma object at 0x000001BDFFEFF8D0>, search_type='similarity', search_kwargs={})"
      ]
     },
     "execution_count": 42,
     "metadata": {},
     "output_type": "execute_result"
    }
   ],
   "source": [
    "vector_store_csv."
   ]
  },
  {
   "cell_type": "code",
   "execution_count": 34,
   "metadata": {},
   "outputs": [],
   "source": [
    "retriever_infos = [\n",
    "    {\n",
    "        \"name\": \"situacion economia\", \n",
    "        \"description\": \"Good for answering questions about economy\", \n",
    "        \"retriever\": pdf_retriever\n",
    "    },\n",
    "    {\n",
    "        \"name\": \"datos paro\", \n",
    "        \"description\": \"Good for answering questions about unemployement\", \n",
    "        \"retriever\": csv_retriever\n",
    "    }\n",
    "]"
   ]
  },
  {
   "cell_type": "code",
   "execution_count": 17,
   "metadata": {},
   "outputs": [],
   "source": [
    "from langchain.memory import ConversationBufferMemory\n",
    "memory = ConversationBufferMemory(memory_key=\"chat_history\", return_messages=True)"
   ]
  },
  {
   "cell_type": "code",
   "execution_count": 35,
   "metadata": {},
   "outputs": [],
   "source": [
    "chain = MultiRetrievalQAChain.from_retrievers(OpenAI(), retriever_infos, verbose=True)"
   ]
  },
  {
   "cell_type": "code",
   "execution_count": 36,
   "metadata": {},
   "outputs": [
    {
     "name": "stdout",
     "output_type": "stream",
     "text": [
      "\n",
      "\n",
      "\u001b[1m> Entering new MultiRetrievalQAChain chain...\u001b[0m\n",
      "situacion economia: {'query': '¿Cuál fue el impacto de la guerra de Ucrania en la economía durante 2022?'}\n",
      "\u001b[1m> Finished chain.\u001b[0m\n",
      " La guerra de Ucrania afectó a la economía española durante 2022 tanto en los precios como en la actividad, a través de varios canales, entre los que destaca el alza de los costes energéticos que se tradujo en unos niveles de inflación elevados que retraen el consumo. El incremento de los precios está siendo más acusado y está durando más de lo inicialmente previsto.\n"
     ]
    }
   ],
   "source": [
    "print(chain.run(\"Qué impacto tuvo la guerra de Ucrania en la economia durante 2022?\"))"
   ]
  },
  {
   "cell_type": "code",
   "execution_count": 43,
   "metadata": {},
   "outputs": [
    {
     "name": "stdout",
     "output_type": "stream",
     "text": [
      "\n",
      "\n",
      "\u001b[1m> Entering new MultiRetrievalQAChain chain...\u001b[0m\n",
      "datos paro: {'query': 'cual es la tasa de paro total nacional en españa del 2023T1?'}\n",
      "\u001b[1m> Finished chain.\u001b[0m\n",
      " La tasa de paro total nacional en España para el primer trimestre de 2023 se prevé que sea del 12%.\n"
     ]
    }
   ],
   "source": [
    "print(chain.run(\"cual es la tasa de paro total nacional en españa del 2023T1?\"))"
   ]
  }
 ],
 "metadata": {
  "kernelspec": {
   "display_name": ".venv",
   "language": "python",
   "name": "python3"
  },
  "language_info": {
   "codemirror_mode": {
    "name": "ipython",
    "version": 3
   },
   "file_extension": ".py",
   "mimetype": "text/x-python",
   "name": "python",
   "nbconvert_exporter": "python",
   "pygments_lexer": "ipython3",
   "version": "3.11.3"
  },
  "orig_nbformat": 4
 },
 "nbformat": 4,
 "nbformat_minor": 2
}
