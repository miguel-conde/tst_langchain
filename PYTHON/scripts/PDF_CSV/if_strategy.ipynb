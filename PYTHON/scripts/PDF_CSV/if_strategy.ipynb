{
 "cells": [
  {
   "cell_type": "code",
   "execution_count": 11,
   "metadata": {},
   "outputs": [],
   "source": [
    "import util_funs.globalsettings as gs\n",
    "from langchain.agents import create_csv_agent\n",
    "from langchain.llms import OpenAI\n",
    "\n",
    "from langchain.vectorstores.chroma import Chroma\n",
    "from langchain.chat_models import ChatOpenAI\n",
    "from langchain.embeddings.openai import OpenAIEmbeddings\n",
    "from langchain.chains import ConversationalRetrievalChain\n",
    "from langchain.chains.question_answering import load_qa_chain\n",
    "from langchain.schema import HumanMessage, AIMessage\n",
    "\n",
    "from langchain.agents import AgentType, initialize_agent\n",
    "\n",
    "from langchain import LLMMathChain, SerpAPIWrapper\n",
    "from langchain.tools import BaseTool, StructuredTool, Tool, tool\n",
    "\n",
    "from langchain.memory import ConversationBufferMemory\n",
    "\n",
    "from langchain import PromptTemplate"
   ]
  },
  {
   "cell_type": "code",
   "execution_count": 3,
   "metadata": {},
   "outputs": [],
   "source": [
    "model = ChatOpenAI(\n",
    "        model_name=\"gpt-3.5-turbo\",\n",
    "        temperature=\"0\",\n",
    "        # verbose=True\n",
    "    )"
   ]
  },
  {
   "cell_type": "code",
   "execution_count": 7,
   "metadata": {},
   "outputs": [],
   "source": [
    "agent = create_csv_agent(model, gs.the_files.CSV_FILES[0], verbose=True)"
   ]
  },
  {
   "cell_type": "code",
   "execution_count": 10,
   "metadata": {},
   "outputs": [
    {
     "name": "stderr",
     "output_type": "stream",
     "text": [
      "Using embedded DuckDB with persistence: data will be stored in: C:\\Users\\migue\\Documents\\PROYECTOS DATA SCIENCE\\langchain\\PYTHON\\util_funs\\..\\..\\data\\chroma\n"
     ]
    }
   ],
   "source": [
    "vector_store_pdf = Chroma(\n",
    "    collection_name='pdf_files',\n",
    "    embedding_function=OpenAIEmbeddings(),\n",
    "    persist_directory=gs.the_folders.DIR_PERSIST\n",
    "    )\n",
    "pdf_retriever = vector_store_pdf.as_retriever()\n",
    "\n",
    "memory = ConversationBufferMemory(memory_key=\"chat_history\", return_messages=True)\n",
    "\n",
    "qa_chain = ConversationalRetrievalChain.from_llm(\n",
    "    model,\n",
    "    retriever=pdf_retriever,\n",
    "    return_source_documents=True,\n",
    "    memory =  memory\n",
    "    # verbose=True,\n",
    "    )"
   ]
  },
  {
   "cell_type": "code",
   "execution_count": 34,
   "metadata": {},
   "outputs": [],
   "source": [
    "if_prompt = PromptTemplate(\n",
    "    input_variables=[\"query\"], \n",
    "    template=\"Tu trabajo es clasificar la pregunta siguiente pregunta. \\\n",
    "              PREGUNTA: {query}  \\\n",
    "              Estas son tus INSTRUCCIONES para clasificar la pregunta:\\\n",
    "              - Si tiene que ver con el paro / desempleo en España (por ejemplo: 'Cuál fue  \\\n",
    "                la tasa de paro total en España en 2023T1?'), contestarás \\\n",
    "                con la palabra: 'csv_spain_retriever'  \\\n",
    "              - Si tiene que ver con el paro / desempleo en la Unión Europea (UE)  \\\n",
    "                (por ejemplo, 'cual fue la tasa de desempleo en la UE en 2021?'),  \\\n",
    "                contestarás con la palabra 'csv_ue_retriever'  \\\n",
    "              - Si no es ninguno de los casos anteriores o no sabes la respuessta contestarás \\\n",
    "                con la palabra 'csv_pdf_retriever'\"           \n",
    ")"
   ]
  },
  {
   "cell_type": "code",
   "execution_count": 24,
   "metadata": {},
   "outputs": [
    {
     "data": {
      "text/plain": [
       "\"Tu trabajo es clasificar la pregunta siguiente pregunta.               PREGUNTA: Cuál fue la tasa de paro total en España en 2023T1?                Estas son tus INSTRUCCIONES para clasificar la pregunta:              - Si tiene que ver con el paro / desempleo en España (por ejemplo: 'Cuál fue                  la tasa de paro total en España en 2023T1?'), contestarás 'csv_spain_retriever'                - Si tiene que ver con el paro / desempleo en la Unión Europea (UE)                  (por ejemplo, 'cual fue la tasa de desempleo en la UE en 2021?'),                  contestarás 'csv_ue_retriever'                - Si no es ninguno de los casos anteriores contestarás 'csv_pdf_retriever'\""
      ]
     },
     "execution_count": 24,
     "metadata": {},
     "output_type": "execute_result"
    }
   ],
   "source": [
    "if_prompt.format(query = \"Cuál fue la tasa de paro total en España en 2023T1?\")"
   ]
  },
  {
   "cell_type": "code",
   "execution_count": 35,
   "metadata": {},
   "outputs": [
    {
     "data": {
      "text/plain": [
       "\".'\""
      ]
     },
     "execution_count": 35,
     "metadata": {},
     "output_type": "execute_result"
    }
   ],
   "source": [
    "from langchain.llms import OpenAI\n",
    "llm = OpenAI(model_name=\"text-ada-001\")\n",
    "llm(if_prompt.format(query = \"Cuál fue la tasa de paro total en España en 2023T1?\"))"
   ]
  }
 ],
 "metadata": {
  "kernelspec": {
   "display_name": ".venv",
   "language": "python",
   "name": "python3"
  },
  "language_info": {
   "codemirror_mode": {
    "name": "ipython",
    "version": 3
   },
   "file_extension": ".py",
   "mimetype": "text/x-python",
   "name": "python",
   "nbconvert_exporter": "python",
   "pygments_lexer": "ipython3",
   "version": "3.11.3"
  },
  "orig_nbformat": 4
 },
 "nbformat": 4,
 "nbformat_minor": 2
}
