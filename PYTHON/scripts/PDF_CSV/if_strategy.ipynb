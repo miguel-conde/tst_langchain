{
 "cells": [
  {
   "cell_type": "code",
   "execution_count": 37,
   "metadata": {},
   "outputs": [],
   "source": [
    "import util_funs.globalsettings as gs\n",
    "from langchain.agents import create_csv_agent\n",
    "from langchain.llms import OpenAI\n",
    "\n",
    "from langchain.vectorstores.chroma import Chroma\n",
    "from langchain.chat_models import ChatOpenAI\n",
    "from langchain.embeddings.openai import OpenAIEmbeddings\n",
    "from langchain.chains import ConversationalRetrievalChain\n",
    "from langchain.chains.question_answering import load_qa_chain\n",
    "from langchain.schema import HumanMessage, AIMessage\n",
    "\n",
    "from langchain.agents import AgentType, initialize_agent\n",
    "\n",
    "from langchain import LLMMathChain, SerpAPIWrapper\n",
    "from langchain.tools import BaseTool, StructuredTool, Tool, tool\n",
    "\n",
    "from langchain.memory import ConversationBufferMemory, ConversationSummaryBufferMemory\n",
    "\n",
    "from langchain import PromptTemplate\n",
    "\n",
    "from langchain.prompts.chat import (\n",
    "    ChatPromptTemplate,\n",
    "    SystemMessagePromptTemplate,\n",
    "    AIMessagePromptTemplate,\n",
    "    HumanMessagePromptTemplate,\n",
    ")\n",
    "\n",
    "import matplotlib.pyplot as plt"
   ]
  },
  {
   "attachments": {},
   "cell_type": "markdown",
   "metadata": {},
   "source": [
    "# Chat Model"
   ]
  },
  {
   "cell_type": "code",
   "execution_count": 8,
   "metadata": {},
   "outputs": [],
   "source": [
    "model = ChatOpenAI(\n",
    "        model_name=\"gpt-3.5-turbo\",\n",
    "        temperature=\"0\",\n",
    "        # verbose=True\n",
    "    )"
   ]
  },
  {
   "attachments": {},
   "cell_type": "markdown",
   "metadata": {},
   "source": [
    "# CSV Agent"
   ]
  },
  {
   "cell_type": "code",
   "execution_count": 9,
   "metadata": {},
   "outputs": [],
   "source": [
    "agent_spain = create_csv_agent(model, gs.the_files.CSV_FILES[0], verbose=False)\n",
    "agent_ue    = create_csv_agent(model, gs.the_files.CSV_FILES[1], verbose=False)"
   ]
  },
  {
   "attachments": {},
   "cell_type": "markdown",
   "metadata": {},
   "source": [
    "# Q&A Chain for PDFs"
   ]
  },
  {
   "cell_type": "code",
   "execution_count": 10,
   "metadata": {},
   "outputs": [],
   "source": [
    "# system_prompt = PromptTemplate(\n",
    "#     template = \"\"\"\n",
    "# Eres un experto en macroeconomía nacional. \n",
    "# Tu trabajo es contestar una pregunta sobre la situación económica\n",
    "# de España en 2022. Debes contestar siempre en español.\n",
    "# PREGUNTA:  \n",
    "#               \"\"\",\n",
    "#     input_variables = [],\n",
    "# )\n",
    "\n",
    "# system_message_prompt = SystemMessagePromptTemplate(prompt=system_prompt)\n",
    "\n",
    "# human_prompt=PromptTemplate(\n",
    "#     template=\"{text}\",\n",
    "#     input_variables=[\"text\"]\n",
    "# )\n",
    "\n",
    "# human_message_prompt = HumanMessagePromptTemplate(prompt=human_prompt)\n",
    "\n",
    "# chat_prompt = ChatPromptTemplate.from_messages([system_message_prompt, human_message_prompt])\n",
    "\n",
    "chat_prompt = PromptTemplate(\n",
    "    template=\"\"\"\n",
    "Contesta en español la siguiente pregunta.\n",
    "PREGUNTA:  {text}\n",
    "\"\"\",\n",
    "    input_variables=[\"text\"]\n",
    ")"
   ]
  },
  {
   "cell_type": "code",
   "execution_count": 11,
   "metadata": {},
   "outputs": [
    {
     "data": {
      "text/plain": [
       "'\\nContesta en español la siguiente pregunta.\\nPREGUNTA:  Cuál fue la tasa de paro total en España en 2023T1?\\n'"
      ]
     },
     "execution_count": 11,
     "metadata": {},
     "output_type": "execute_result"
    }
   ],
   "source": [
    "chat_prompt.format(text=\"Cuál fue la tasa de paro total en España en 2023T1?\")"
   ]
  },
  {
   "cell_type": "code",
   "execution_count": 12,
   "metadata": {},
   "outputs": [],
   "source": [
    "# system_prompt.format_prompt().to_messages()"
   ]
  },
  {
   "cell_type": "code",
   "execution_count": 13,
   "metadata": {},
   "outputs": [
    {
     "name": "stderr",
     "output_type": "stream",
     "text": [
      "Using embedded DuckDB with persistence: data will be stored in: C:\\Users\\migue\\Documents\\PROYECTOS DATA SCIENCE\\langchain\\PYTHON\\util_funs\\..\\..\\data\\chroma\n"
     ]
    }
   ],
   "source": [
    "vector_store_pdf = Chroma(\n",
    "    collection_name='pdf_files',\n",
    "    embedding_function=OpenAIEmbeddings(),\n",
    "    persist_directory=gs.the_folders.DIR_PERSIST\n",
    "    )\n",
    "pdf_retriever = vector_store_pdf.as_retriever()\n",
    "\n",
    "memory = ConversationBufferMemory(memory_key=\"chat_history\", return_messages=True)\n",
    "\n",
    "qa_chain = ConversationalRetrievalChain.from_llm(\n",
    "    model,\n",
    "    retriever=pdf_retriever,\n",
    "    return_source_documents=False,\n",
    "    # memory =  memory\n",
    "    # verbose=True,\n",
    "    )"
   ]
  },
  {
   "cell_type": "code",
   "execution_count": 14,
   "metadata": {},
   "outputs": [
    {
     "name": "stderr",
     "output_type": "stream",
     "text": [
      "Retrying langchain.chat_models.openai.ChatOpenAI.completion_with_retry.<locals>._completion_with_retry in 1.0 seconds as it raised RateLimitError: That model is currently overloaded with other requests. You can retry your request, or contact us through our help center at help.openai.com if the error persists. (Please include the request ID 20389270c9114ea1756dfbd36bfed5bc in your message.).\n"
     ]
    },
    {
     "data": {
      "text/plain": [
       "{'question': 'Cuáles fueron las consecuencias de la guerra de Ucrania? Contesta en español',\n",
       " 'chat_history': [],\n",
       " 'answer': 'Una de las consecuencias de la guerra de Ucrania fue la prolongación de las tensiones en los mercados de materias primas, especialmente en los energéticos, lo que aumentó la probabilidad de efectos de segunda ronda en los precios. Los mercados de materias primas, especialmente los energéticos y alimentarios, sufrieron notables alzas desde el inicio de la guerra debido a la dependencia global de la oferta proveniente de Rusia y Ucrania. La persistencia de tensiones en los precios de las materias primas siguió presionando las tasas de inflación al alza, haciendo más probable la materialización de efectos de segunda ronda. El gas natural fue la materia prima más afectada, especialmente si se materializaba un corte de suministro desde Rusia hacia Europa. Una interrupción total del suministro de gas natural desde Rusia tendría un impacto significativo en la oferta disponible de gas natural en Europa, lo cual tensionaría aún más los precios.'}"
      ]
     },
     "execution_count": 14,
     "metadata": {},
     "output_type": "execute_result"
    }
   ],
   "source": [
    "qa_chain({\"question\": \"Cuáles fueron las consecuencias de la guerra de Ucrania? Contesta en español\", 'chat_history': []})"
   ]
  },
  {
   "cell_type": "code",
   "execution_count": 15,
   "metadata": {},
   "outputs": [
    {
     "data": {
      "text/plain": [
       "{'question': '\\nContesta en español la siguiente pregunta.\\nPREGUNTA:  Qué dos importantes paquetes de respuesta a las consecuencias económicas y sociales de la guerra de Ucrania se han adoptado\\n',\n",
       " 'chat_history': [],\n",
       " 'answer': 'En el curso de 2022 se han adoptado dos importantes paquetes de respuesta a las consecuencias económicas y sociales de la guerra de Ucrania. El primer paquete de medidas fue adoptado en marzo y permitió una reducción de la tasa de IPC interanual de 1,5 puntos, hasta situarla en el 8,3% en abril. El segundo paquete de medidas fue adoptado en junio y se prevé una reducción del IPC superior a los 3,5 puntos porcentuales.'}"
      ]
     },
     "execution_count": 15,
     "metadata": {},
     "output_type": "execute_result"
    }
   ],
   "source": [
    "qa_chain({\"question\": chat_prompt.format(text=\"Qué dos importantes paquetes de respuesta a las consecuencias económicas y sociales de la guerra de Ucrania se han adoptado\"),\n",
    "          'chat_history': []})"
   ]
  },
  {
   "attachments": {},
   "cell_type": "markdown",
   "metadata": {},
   "source": [
    "# IF-PROMPT"
   ]
  },
  {
   "cell_type": "code",
   "execution_count": 16,
   "metadata": {},
   "outputs": [],
   "source": [
    "the_template=\"\"\"\n",
    "Tu trabajo es clasificar una pregunta. \n",
    "Estas son tus INSTRUCCIONES para clasificar la pregunta:\n",
    "- Si tiene que ver con el paro / desempleo en España (por ejemplo: 'Cuál fue  \n",
    "la tasa de paro total en España en 2023T1?'), contestarás\n",
    "con la palabra: 'csv_spain_retriever'  \n",
    "- Si tiene que ver con el paro / desempleo en la Unión Europea (UE)\n",
    "(por ejemplo, 'cual fue la tasa de desempleo en la UE en 2021?'),\n",
    "contestarás con la palabra 'csv_ue_retriever'\n",
    "- Si no es ninguno de los casos anteriores o no sabes la respuesta contestarás\n",
    "con la palabra 'pdf_retriever'\n",
    "PREGUNTA:  {query}\n",
    "\"\"\"    \n",
    "\n",
    "if_prompt = PromptTemplate(\n",
    "    input_variables=[\"query\"], \n",
    "    template=the_template          \n",
    ")"
   ]
  },
  {
   "cell_type": "code",
   "execution_count": 17,
   "metadata": {},
   "outputs": [
    {
     "data": {
      "text/plain": [
       "\"\\nTu trabajo es clasificar una pregunta. \\nEstas son tus INSTRUCCIONES para clasificar la pregunta:\\n- Si tiene que ver con el paro / desempleo en España (por ejemplo: 'Cuál fue  \\nla tasa de paro total en España en 2023T1?'), contestarás\\ncon la palabra: 'csv_spain_retriever'  \\n- Si tiene que ver con el paro / desempleo en la Unión Europea (UE)\\n(por ejemplo, 'cual fue la tasa de desempleo en la UE en 2021?'),\\ncontestarás con la palabra 'csv_ue_retriever'\\n- Si no es ninguno de los casos anteriores o no sabes la respuesta contestarás\\ncon la palabra 'pdf_retriever'\\nPREGUNTA:  Cuál fue la tasa de paro total en España en 2023T1?\\n\""
      ]
     },
     "execution_count": 17,
     "metadata": {},
     "output_type": "execute_result"
    }
   ],
   "source": [
    "if_prompt.format(query = \"Cuál fue la tasa de paro total en España en 2023T1?\")"
   ]
  },
  {
   "cell_type": "code",
   "execution_count": 18,
   "metadata": {},
   "outputs": [
    {
     "data": {
      "text/plain": [
       "'RESPUESTA: csv_spain_retriever'"
      ]
     },
     "execution_count": 18,
     "metadata": {},
     "output_type": "execute_result"
    }
   ],
   "source": [
    "from langchain.llms import OpenAI\n",
    "llm = OpenAI()\n",
    "llm(if_prompt.format(query = \"Cuál fue la tasa de paro total en España en 2023T1?\"))"
   ]
  },
  {
   "cell_type": "code",
   "execution_count": 19,
   "metadata": {},
   "outputs": [
    {
     "data": {
      "text/plain": [
       "'\\nRESPUESTA: pdf_retriever'"
      ]
     },
     "execution_count": 19,
     "metadata": {},
     "output_type": "execute_result"
    }
   ],
   "source": [
    "llm(if_prompt.format(query = \"Cuáles fueron las consecuencias de la guerra de Ucrania?\"))"
   ]
  },
  {
   "cell_type": "code",
   "execution_count": 20,
   "metadata": {},
   "outputs": [
    {
     "data": {
      "text/plain": [
       "'RESPUESTA: csv_ue_retriever'"
      ]
     },
     "execution_count": 20,
     "metadata": {},
     "output_type": "execute_result"
    }
   ],
   "source": [
    "llm(if_prompt.format(query = \"Cómo evoluciono el paro en la UE?\"))"
   ]
  },
  {
   "attachments": {},
   "cell_type": "markdown",
   "metadata": {},
   "source": [
    "# Test framework"
   ]
  },
  {
   "cell_type": "code",
   "execution_count": 26,
   "metadata": {},
   "outputs": [],
   "source": [
    "def ask_if_prompt(the_query):\n",
    "    \n",
    "    res = llm(if_prompt.format(query = the_query))\n",
    "\n",
    "    if ('spain' in res):\n",
    "       # print(\"SPAIN - \" + the_query)\n",
    "       out = agent_spain.run(chat_prompt.format(text=the_query))\n",
    "    elif ('ue' in res):\n",
    "       # print(\"UE - \" + the_query)\n",
    "       out = agent_ue.run(chat_prompt.format(text=the_query))\n",
    "    else:\n",
    "        # print(\"PDF - \" + the_query)\n",
    "      #   out = qa_chain({\"question\": the_query, 'chat_history': []})['answer']\n",
    "      #   out = qa_chain(chat_prompt.format(text=the_query))['answer']\n",
    "      out = qa_chain({\"question\": chat_prompt.format(text=the_query),\n",
    "                      'chat_history': []})    \n",
    "    return out"
   ]
  },
  {
   "cell_type": "code",
   "execution_count": 22,
   "metadata": {},
   "outputs": [
    {
     "data": {
      "text/plain": [
       "{'question': '\\nContesta en español la siguiente pregunta.\\nPREGUNTA:  Cuáles fueron las consecuencias de la guerra de Ucrania?\\n',\n",
       " 'chat_history': [],\n",
       " 'answer': 'Según el texto proporcionado, una de las consecuencias de la guerra de Ucrania fue el aumento de las tensiones en los mercados de materias primas, especialmente en los energéticos, lo que provocó un aumento en los precios de estas materias primas. Esto se debió a la dependencia global de la oferta proveniente de Rusia y Ucrania. El gas natural fue la materia prima más afectada y sufriría aún más si se materializara un corte de suministro desde Rusia hacia Europa. Además, la persistencia de tensiones en los precios de materias primas seguiría presionando las tasas de inflación al alza, haciendo más probable la materialización de efectos de segunda ronda.'}"
      ]
     },
     "execution_count": 22,
     "metadata": {},
     "output_type": "execute_result"
    }
   ],
   "source": [
    "ask_if_prompt(the_query = \"Cuáles fueron las consecuencias de la guerra de Ucrania?\")"
   ]
  },
  {
   "cell_type": "code",
   "execution_count": 27,
   "metadata": {},
   "outputs": [
    {
     "data": {
      "text/plain": [
       "'La tasa de paro total en España en 2023T1 fue de 13.26%.'"
      ]
     },
     "execution_count": 27,
     "metadata": {},
     "output_type": "execute_result"
    }
   ],
   "source": [
    "ask_if_prompt(the_query = \"Cuál fue la tasa de paro total en España en 2023T1?\")"
   ]
  },
  {
   "cell_type": "code",
   "execution_count": 30,
   "metadata": {},
   "outputs": [
    {
     "data": {
      "text/plain": [
       "'La tasa de paro total en Polonia en 2023-01 fue de 2.8.'"
      ]
     },
     "execution_count": 30,
     "metadata": {},
     "output_type": "execute_result"
    }
   ],
   "source": [
    "ask_if_prompt(the_query = \"Cuál fue la tasa de paro total en Polonia en 2023-01?\")"
   ]
  },
  {
   "cell_type": "code",
   "execution_count": 29,
   "metadata": {},
   "outputs": [],
   "source": [
    "query = 'Haz una tabla comparando '\n",
    "\n",
    "ask_if_prompt(query)"
   ]
  },
  {
   "cell_type": "code",
   "execution_count": 38,
   "metadata": {},
   "outputs": [
    {
     "data": {
      "text/plain": [
       "<Figure size 640x480 with 1 Axes>"
      ]
     },
     "metadata": {},
     "output_type": "display_data"
    }
   ],
   "source": [
    "rrr = ask_if_prompt(the_query = \"Haz gráfico de barras con la evolución de la tasa de paro en Polonia\")"
   ]
  },
  {
   "cell_type": "code",
   "execution_count": 36,
   "metadata": {},
   "outputs": [
    {
     "data": {
      "text/plain": [
       "'El gráfico de barras que muestra la evolución de la tasa de paro en Polonia se ha creado.'"
      ]
     },
     "execution_count": 36,
     "metadata": {},
     "output_type": "execute_result"
    }
   ],
   "source": [
    "rrr"
   ]
  },
  {
   "attachments": {},
   "cell_type": "markdown",
   "metadata": {},
   "source": [
    "# UI"
   ]
  },
  {
   "cell_type": "code",
   "execution_count": 31,
   "metadata": {},
   "outputs": [],
   "source": [
    "import gradio as gr\n",
    "import time"
   ]
  },
  {
   "cell_type": "code",
   "execution_count": 33,
   "metadata": {},
   "outputs": [
    {
     "name": "stdout",
     "output_type": "stream",
     "text": [
      "Running on local URL:  http://127.0.0.1:7861\n",
      "\n",
      "Could not create share link. Please check your internet connection or our status page: https://status.gradio.app\n"
     ]
    },
    {
     "data": {
      "text/html": [
       "<div><iframe src=\"http://127.0.0.1:7861/\" width=\"100%\" height=\"500\" allow=\"autoplay; camera; microphone; clipboard-read; clipboard-write;\" frameborder=\"0\" allowfullscreen></iframe></div>"
      ],
      "text/plain": [
       "<IPython.core.display.HTML object>"
      ]
     },
     "metadata": {},
     "output_type": "display_data"
    },
    {
     "data": {
      "text/plain": []
     },
     "execution_count": 33,
     "metadata": {},
     "output_type": "execute_result"
    },
    {
     "name": "stdout",
     "output_type": "stream",
     "text": [
      "Cuál fue la tasa de paro total en Polonia en 2023-01? Contesta en español de forma detallada. \n",
      "2.8\n",
      "La tasa de paro total en Polonia en 2023-01 fue del 4.2%\n"
     ]
    }
   ],
   "source": [
    "\n",
    "\n",
    "css = \"\"\"\n",
    "\n",
    ".gradio-container::before {\n",
    "    content: \"\";\n",
    "    position: absolute;\n",
    "    top: 0px;\n",
    "    left: 0;\n",
    "    right: 0;\n",
    "    height: 80px;\n",
    "    z-index: 2;\n",
    "    position: fixed;\n",
    "    background: black url(https://www2.deloitte.com/content/dam/assets/logos/deloitte.svg) no-repeat;\n",
    "    background-size: 182px;\n",
    "    background-position: 40px;\n",
    "}\n",
    "\n",
    ".gradio-container {\n",
    "  margin-top: 104px !important;\n",
    "}\n",
    "\n",
    ":root {\n",
    "  --body-background-fill: #e8eae9;\n",
    "  --border-color-accent: #86BC25;\n",
    "  --color-accent-soft: #E1EEC8;\n",
    "  --secondary-50: var(--color-accent-soft);\n",
    "  --input-border-color-focus: var(--border-color-accent);\n",
    "}\n",
    "\n",
    "\"\"\"\n",
    "\n",
    "\n",
    "\n",
    "with gr.Blocks(css=css) as demo:\n",
    "  chatbot = gr.Chatbot()\n",
    "  msg = gr.Textbox(label=\"\", placeholder=\"Haz tu pregunta\")\n",
    "  clear = gr.Button(\"Clear\")\n",
    "\n",
    "  def user(user_message, history):\n",
    "    return \"\", history + [[user_message, None]]\n",
    "\n",
    "  def bot(history):\n",
    "    pregunta = history[-1][0] + \" Contesta en español de forma detallada. \"\n",
    "    print(pregunta)\n",
    "    bot_message = ask_if_prompt(the_query = pregunta)\n",
    "    print(bot_message)\n",
    "    history[-1][1] = \"\"\n",
    "    for character in bot_message:\n",
    "      history[-1][1] += character\n",
    "      time.sleep(0.002)\n",
    "      yield history\n",
    "\n",
    "  msg.submit(user, [msg, chatbot], [msg, chatbot], queue=False).then(\n",
    "      bot, chatbot, chatbot\n",
    "  )\n",
    "  clear.click(lambda: None, None, chatbot, queue=False)\n",
    "\n",
    "demo.queue(api_open=False)\n",
    "demo.launch(share=True, show_api=False)"
   ]
  },
  {
   "cell_type": "code",
   "execution_count": null,
   "metadata": {},
   "outputs": [],
   "source": []
  }
 ],
 "metadata": {
  "kernelspec": {
   "display_name": ".venv",
   "language": "python",
   "name": "python3"
  },
  "language_info": {
   "codemirror_mode": {
    "name": "ipython",
    "version": 3
   },
   "file_extension": ".py",
   "mimetype": "text/x-python",
   "name": "python",
   "nbconvert_exporter": "python",
   "pygments_lexer": "ipython3",
   "version": "3.11.3"
  },
  "orig_nbformat": 4
 },
 "nbformat": 4,
 "nbformat_minor": 2
}
