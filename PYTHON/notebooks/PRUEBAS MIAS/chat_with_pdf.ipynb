{
 "cells": [
  {
   "cell_type": "code",
   "execution_count": 2,
   "metadata": {},
   "outputs": [],
   "source": [
    "import util_funs.globalsettings as gs"
   ]
  },
  {
   "cell_type": "code",
   "execution_count": 10,
   "metadata": {},
   "outputs": [],
   "source": [
    "# Document Loader\n",
    "from langchain.document_loaders import PyPDFLoader\n",
    "\n",
    "loader = PyPDFLoader(gs.the_files.PROBE_PDF)\n",
    "documents = loader.load()"
   ]
  },
  {
   "cell_type": "code",
   "execution_count": 11,
   "metadata": {},
   "outputs": [],
   "source": [
    "# Text Splitter\n",
    "from langchain.text_splitter import CharacterTextSplitter\n",
    "\n",
    "text_splitter = CharacterTextSplitter(chunk_size=1000, chunk_overlap=0)\n",
    "docs = text_splitter.split_documents(documents)"
   ]
  },
  {
   "cell_type": "code",
   "execution_count": 12,
   "metadata": {},
   "outputs": [
    {
     "name": "stdout",
     "output_type": "stream",
     "text": [
      "page_content='The problem with using maximum likelihood estimators for this problem is that they are biased.\\nA way to circumvent this is to use restricted maximum likelihood estimators (REML) [8]. In\\nthis study, we adopted REML. However, we found that the choice of estimator, ML or REML,\\nactually made little difference to the coefﬁcient estimates.\\nWe require a special case of this model structure with just a random intercept for each account.\\nThen for each account i,\\nYi=αi+Xiβ+εi (2.10)\\nwhere αi\\x18N(0;σ2\\nα)is the random intercept for each account.\\nThe previous lagged balance, Yi;t\\x00lis deliberately not included in the model structure on the\\nright-hand side since this changes the formulation into an autoregressive panel model which is\\nnot straightforward to estimate, since the predictor variable Yi;t\\x00lwill itself be dependent on the\\nrandom effect; a typical approach to estimating such a model is to use instrumental variables\\n[15]. However, in this case, it is not clear which instrumental variables could be used. Since\\nprevious balance is expected to be a strong driver of future balance on the same account, its\\nexclusion from the panel model would seem a handicap. However, this is not the case since αi\\nacts as a relative “average balance” for account i. It takes the place of previous balance as a\\npredictor variable, and in a more ﬂexible way since it does not require the use of a ﬁxed lag l.\\nTherefore, to predict a balance for a new observation at time tusing the panel model, compute\\nE[yi;tjxi;t\\x00l;ˆαi] =ˆαi+xi;t\\x00lˆβ (2.11)\\nwhere ˆβis the estimate from the model and ˆαiis an estimate of the random effect for i. This\\ncan be obtained using an empirical Bayes approach. That is,\\nˆαi=E[αijY] =\\x02\\nαif(αijY)dαi (2.12)\\nand through Bayes theorem, f(αijY)∝f(Yjαi)f(αi), the Bayes estimate for αi, and using the\\nMLE for D,Vandβ, the estimate for the random effect is obtained:\\nˆαi=DZT\\niV\\x001(Yi\\x00Xiˆβ): (2.13)\\nThis estimate requires a history of data to estimate for an account.This estimate will not be\\navailable for newer accounts, and so for these cases an estimate of ˆαi=0is imposed.\\n11' metadata={'source': 'C:\\\\Users\\\\migue\\\\Documents\\\\PROYECTOS DATA SCIENCE\\\\langchain\\\\PYTHON\\\\util_funs\\\\..\\\\..\\\\data\\\\77009321.pdf', 'page': 10}\n"
     ]
    }
   ],
   "source": [
    "print(docs[10])"
   ]
  },
  {
   "cell_type": "code",
   "execution_count": 13,
   "metadata": {},
   "outputs": [],
   "source": [
    "# Embeddings\n",
    "from langchain.embeddings import HuggingFaceEmbeddings\n",
    "\n",
    "embeddings = HuggingFaceEmbeddings()"
   ]
  },
  {
   "cell_type": "code",
   "execution_count": 14,
   "metadata": {},
   "outputs": [],
   "source": [
    "# Similarities\n",
    "\n",
    "from langchain.vectorstores import FAISS\n",
    "\n",
    "db = FAISS.from_documents(docs, embeddings)\n",
    "\n",
    "query = \"What is this paper about?\"\n",
    "docs = db.similarity_search(query)"
   ]
  },
  {
   "cell_type": "code",
   "execution_count": 19,
   "metadata": {},
   "outputs": [
    {
     "data": {
      "text/plain": [
       "4"
      ]
     },
     "execution_count": 19,
     "metadata": {},
     "output_type": "execute_result"
    }
   ],
   "source": [
    "len(docs)"
   ]
  },
  {
   "cell_type": "code",
   "execution_count": 20,
   "metadata": {},
   "outputs": [
    {
     "name": "stdout",
     "output_type": "stream",
     "text": [
      "method, Section 3 describes the data used in this study along with data processing, Section 4\n",
      "gives results in terms of model estimates and forecasts and Section 5 gives some conclusions\n",
      "and discussion of possible future work.\n",
      "1.1 Distribution of credit card balance\n",
      "For this study, a positive value of credit card balance indicates the credit used and outstanding at\n",
      "the end of each accounting month. Credit card balance typically has a right-skewed distribution\n",
      "with lower frequencies of accounts having larger balances. Also, many values will be exactly\n",
      "zero, representing those individuals who either do not use the credit card for several months\n",
      "or who repay their balance in full. Additionally, it is possible to record a negative balance for\n",
      "account months when the credit card holder overpays or a refund is paid to an account. Figure\n",
      "1.1 shows the distribution of balance for the credit card data used in this study (this data is\n",
      "described in more detail in Section 3) and it illustrates these features. In particular, 35.3% of\n",
      "account records have a balance of exactly zero and 7.8% record a negative balance.\n",
      "Figure 1.1: Histogram of raw balance (GB pounds)\n",
      "The right-skew suggests a log transformation. However, the presence of non-positive values\n",
      "makes this impossible. A feasible alternative is to transform the dependent variable using\n",
      "3\n"
     ]
    }
   ],
   "source": [
    "print(docs[0].page_content)"
   ]
  },
  {
   "cell_type": "code",
   "execution_count": 16,
   "metadata": {},
   "outputs": [
    {
     "data": {
      "text/plain": [
       "' This paper is about predicting the credit card balance of individuals using statistical models. It discusses the use of OLS regression, two-stage regression models, mixture regression and panel regression models. It also describes the evaluation framework used to assess the accuracy of the predictions.'"
      ]
     },
     "execution_count": 16,
     "metadata": {},
     "output_type": "execute_result"
    }
   ],
   "source": [
    "# Q&A\n",
    "from langchain.chains import RetrievalQA\n",
    "from langchain.llms import OpenAI\n",
    "\n",
    "retriever = db.as_retriever()\n",
    "qa_chain = RetrievalQA.from_chain_type(llm=OpenAI(), chain_type=\"stuff\", retriever=retriever)\n",
    "qa_chain.run(query)"
   ]
  },
  {
   "cell_type": "code",
   "execution_count": 29,
   "metadata": {},
   "outputs": [
    {
     "name": "stderr",
     "output_type": "stream",
     "text": [
      "Using embedded DuckDB without persistence: data will be transient\n"
     ]
    }
   ],
   "source": [
    "# One line index creation - https://python.langchain.com/en/latest/modules/indexes/getting_started.html\n",
    "from langchain.indexes import VectorstoreIndexCreator\n",
    "\n",
    "index = VectorstoreIndexCreator().from_loaders([loader])"
   ]
  },
  {
   "cell_type": "code",
   "execution_count": 38,
   "metadata": {},
   "outputs": [
    {
     "data": {
      "text/plain": [
       "' ANSWER: This paper is about modeling and forecasting credit card balance at an account level. It discusses different models, such as ordinary least squares, two-stage regression, mixture regression, and panel regression. It also discusses the importance of previous lagged balance as a predictor variable.'"
      ]
     },
     "execution_count": 38,
     "metadata": {},
     "output_type": "execute_result"
    }
   ],
   "source": [
    "index.query(query + \". Start your answer with: 'ANSWER: '\")"
   ]
  },
  {
   "cell_type": "code",
   "execution_count": 31,
   "metadata": {},
   "outputs": [],
   "source": [
    "index = VectorstoreIndexCreator(vectorstore_cls=FAISS,\n",
    "                                embedding=embeddings,\n",
    "                                text_splitter=text_splitter).from_loaders([loader])"
   ]
  },
  {
   "cell_type": "code",
   "execution_count": 32,
   "metadata": {},
   "outputs": [
    {
     "data": {
      "text/plain": [
       "' This paper is about using statistical models to forecast credit card balance. It discusses the data used, the models used, and the evaluation of the models.'"
      ]
     },
     "execution_count": 32,
     "metadata": {},
     "output_type": "execute_result"
    }
   ],
   "source": [
    "index.query(query)"
   ]
  },
  {
   "cell_type": "code",
   "execution_count": 41,
   "metadata": {},
   "outputs": [
    {
     "name": "stdout",
     "output_type": "stream",
     "text": [
      "C:\\Users\\migue\\AppData\\Local\\Temp\\tmp7hbcscfb\n"
     ]
    }
   ],
   "source": [
    "import tempfile\n",
    "\n",
    "fp = tempfile.TemporaryFile()\n",
    "print(fp.file.name)\n",
    "fp.close()"
   ]
  },
  {
   "cell_type": "code",
   "execution_count": null,
   "metadata": {},
   "outputs": [],
   "source": []
  }
 ],
 "metadata": {
  "kernelspec": {
   "display_name": ".venv",
   "language": "python",
   "name": "python3"
  },
  "language_info": {
   "codemirror_mode": {
    "name": "ipython",
    "version": 3
   },
   "file_extension": ".py",
   "mimetype": "text/x-python",
   "name": "python",
   "nbconvert_exporter": "python",
   "pygments_lexer": "ipython3",
   "version": "3.11.3"
  },
  "orig_nbformat": 4
 },
 "nbformat": 4,
 "nbformat_minor": 2
}
